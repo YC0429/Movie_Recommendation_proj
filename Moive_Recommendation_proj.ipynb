{
 "cells": [
  {
   "cell_type": "markdown",
   "metadata": {
    "id": "6GBNxOsI0GnX"
   },
   "source": [
    "# **Spark Moive Recommendation**\n",
    "In this notebook, we will use an Alternating Least Squares (ALS) algorithm with Spark APIs to predict the ratings for the movies in [MovieLens small dataset](https://grouplens.org/datasets/movielens/latest/)"
   ]
  },
  {
   "cell_type": "markdown",
   "metadata": {
    "id": "aICa4l5x0yXn"
   },
   "source": [
    "# Data ETL and Data Exploration"
   ]
  },
  {
   "cell_type": "code",
   "execution_count": null,
   "metadata": {
    "id": "jhQkI1UwEdLY"
   },
   "outputs": [],
   "source": [
    "!apt-get install openjdk-8-jdk-headless -qq > /dev/null\n",
    "!wget -q https://www-us.apache.org/dist/spark/spark-2.4.6/spark-2.4.6-bin-hadoop2.7.tgz\n",
    "!tar xf spark-2.4.6-bin-hadoop2.7.tgz\n",
    "!pip install -q findspark"
   ]
  },
  {
   "cell_type": "code",
   "execution_count": null,
   "metadata": {
    "id": "wDeb24QeEsTo"
   },
   "outputs": [],
   "source": [
    "import os\n",
    "os.environ[\"JAVA_HOME\"] = \"/usr/lib/jvm/java-8-openjdk-amd64\"\n",
    "os.environ[\"SPARK_HOME\"] = \"/content/spark-2.4.6-bin-hadoop2.7\""
   ]
  },
  {
   "cell_type": "code",
   "execution_count": null,
   "metadata": {
    "id": "QDhok0llExoU"
   },
   "outputs": [],
   "source": [
    "import findspark\n",
    "findspark.init()\n",
    "from pyspark.sql import SparkSession\n",
    "spark = SparkSession.builder.master(\"local[*]\").getOrCreate()"
   ]
  },
  {
   "cell_type": "code",
   "execution_count": null,
   "metadata": {
    "colab": {
     "base_uri": "https://localhost:8080/",
     "height": 34
    },
    "id": "0VaEFkE-FJO3",
    "outputId": "1c94145b-d7af-4253-b44c-3b9eb8953bcc"
   },
   "outputs": [
    {
     "name": "stdout",
     "output_type": "stream",
     "text": [
      "sample_data  spark-2.4.6-bin-hadoop2.7\tspark-2.4.6-bin-hadoop2.7.tgz\n"
     ]
    }
   ],
   "source": [
    "!ls"
   ]
  },
  {
   "cell_type": "code",
   "execution_count": null,
   "metadata": {
    "colab": {
     "base_uri": "https://localhost:8080/",
     "height": 35
    },
    "id": "7aTNwjgKFL8m",
    "outputId": "343494ce-d3af-46d5-8db0-fcc6f5e6e33e"
   },
   "outputs": [
    {
     "data": {
      "application/vnd.google.colaboratory.intrinsic": {
       "type": "string"
      },
      "text/plain": [
       "'2.4.6'"
      ]
     },
     "execution_count": 5,
     "metadata": {
      "tags": []
     },
     "output_type": "execute_result"
    }
   ],
   "source": [
    "spark.version"
   ]
  },
  {
   "cell_type": "code",
   "execution_count": null,
   "metadata": {
    "colab": {
     "base_uri": "https://localhost:8080/",
     "height": 71
    },
    "id": "DEmD7KjswmHU",
    "outputId": "68659a89-01b1-4ce1-8a93-3d3fa6e2c0a0"
   },
   "outputs": [
    {
     "name": "stderr",
     "output_type": "stream",
     "text": [
      "/usr/local/lib/python3.6/dist-packages/statsmodels/tools/_testing.py:19: FutureWarning: pandas.util.testing is deprecated. Use the functions in the public API at pandas.testing instead.\n",
      "  import pandas.util.testing as tm\n"
     ]
    }
   ],
   "source": [
    "import numpy as np\n",
    "import pandas as pd\n",
    "import seaborn as sns\n",
    "import matplotlib.pyplot as plt\n",
    "import math\n",
    "%matplotlib inline"
   ]
  },
  {
   "cell_type": "code",
   "execution_count": null,
   "metadata": {
    "colab": {
     "base_uri": "https://localhost:8080/",
     "height": 122
    },
    "id": "ukMo_EGsxXyP",
    "outputId": "b56b4b1d-b57f-4b9f-9555-54789f6aa6e8"
   },
   "outputs": [
    {
     "name": "stdout",
     "output_type": "stream",
     "text": [
      "Go to this URL in a browser: https://accounts.google.com/o/oauth2/auth?client_id=947318989803-6bn6qk8qdgf4n4g3pfee6491hc0brc4i.apps.googleusercontent.com&redirect_uri=urn%3aietf%3awg%3aoauth%3a2.0%3aoob&response_type=code&scope=email%20https%3a%2f%2fwww.googleapis.com%2fauth%2fdocs.test%20https%3a%2f%2fwww.googleapis.com%2fauth%2fdrive%20https%3a%2f%2fwww.googleapis.com%2fauth%2fdrive.photos.readonly%20https%3a%2f%2fwww.googleapis.com%2fauth%2fpeopleapi.readonly\n",
      "\n",
      "Enter your authorization code:\n",
      "··········\n",
      "Mounted at /content/drive\n"
     ]
    }
   ],
   "source": [
    "from google.colab import drive\n",
    "drive.mount('/content/drive')"
   ]
  },
  {
   "cell_type": "code",
   "execution_count": null,
   "metadata": {
    "id": "lHqx4fWiyhip"
   },
   "outputs": [],
   "source": [
    "movies_df = spark.read.load(\"drive/My Drive/ml-latest-small/movies.csv\", format='csv', header = True)\n",
    "ratings_df = spark.read.load(\"drive/My Drive/ml-latest-small/ratings.csv\", format='csv', header = True)\n",
    "links_df = spark.read.load(\"drive/My Drive/ml-latest-small/links.csv\", format='csv', header = True)\n",
    "tags_df = spark.read.load(\"drive/My Drive/ml-latest-small/tags.csv\", format='csv', header = True)"
   ]
  },
  {
   "cell_type": "code",
   "execution_count": null,
   "metadata": {
    "colab": {
     "base_uri": "https://localhost:8080/",
     "height": 204
    },
    "id": "Zk2Taw7ay_Pb",
    "outputId": "7ac5f5d3-bc5f-4e0e-f2cc-093889def754"
   },
   "outputs": [
    {
     "name": "stdout",
     "output_type": "stream",
     "text": [
      "+-------+--------------------+--------------------+\n",
      "|movieId|               title|              genres|\n",
      "+-------+--------------------+--------------------+\n",
      "|      1|    Toy Story (1995)|Adventure|Animati...|\n",
      "|      2|      Jumanji (1995)|Adventure|Childre...|\n",
      "|      3|Grumpier Old Men ...|      Comedy|Romance|\n",
      "|      4|Waiting to Exhale...|Comedy|Drama|Romance|\n",
      "|      5|Father of the Bri...|              Comedy|\n",
      "+-------+--------------------+--------------------+\n",
      "only showing top 5 rows\n",
      "\n"
     ]
    }
   ],
   "source": [
    "movies_df.show(5)"
   ]
  },
  {
   "cell_type": "code",
   "execution_count": null,
   "metadata": {
    "colab": {
     "base_uri": "https://localhost:8080/",
     "height": 204
    },
    "id": "REWeAir1zErR",
    "outputId": "d5092920-7975-446e-ba12-77478a6692e2"
   },
   "outputs": [
    {
     "name": "stdout",
     "output_type": "stream",
     "text": [
      "+------+-------+------+---------+\n",
      "|userId|movieId|rating|timestamp|\n",
      "+------+-------+------+---------+\n",
      "|     1|      1|   4.0|964982703|\n",
      "|     1|      3|   4.0|964981247|\n",
      "|     1|      6|   4.0|964982224|\n",
      "|     1|     47|   5.0|964983815|\n",
      "|     1|     50|   5.0|964982931|\n",
      "+------+-------+------+---------+\n",
      "only showing top 5 rows\n",
      "\n"
     ]
    }
   ],
   "source": [
    "ratings_df.show(5)"
   ]
  },
  {
   "cell_type": "code",
   "execution_count": null,
   "metadata": {
    "colab": {
     "base_uri": "https://localhost:8080/",
     "height": 204
    },
    "id": "TLEqnyWgzFzj",
    "outputId": "e246b642-9c3e-408a-9850-9060a1226d0b"
   },
   "outputs": [
    {
     "name": "stdout",
     "output_type": "stream",
     "text": [
      "+-------+-------+------+\n",
      "|movieId| imdbId|tmdbId|\n",
      "+-------+-------+------+\n",
      "|      1|0114709|   862|\n",
      "|      2|0113497|  8844|\n",
      "|      3|0113228| 15602|\n",
      "|      4|0114885| 31357|\n",
      "|      5|0113041| 11862|\n",
      "+-------+-------+------+\n",
      "only showing top 5 rows\n",
      "\n"
     ]
    }
   ],
   "source": [
    "links_df.show(5)"
   ]
  },
  {
   "cell_type": "code",
   "execution_count": null,
   "metadata": {
    "colab": {
     "base_uri": "https://localhost:8080/",
     "height": 204
    },
    "id": "kkCiJtjazHiG",
    "outputId": "19aa0992-449b-4a78-9c90-ac9bfb95423c"
   },
   "outputs": [
    {
     "name": "stdout",
     "output_type": "stream",
     "text": [
      "+------+-------+---------------+----------+\n",
      "|userId|movieId|            tag| timestamp|\n",
      "+------+-------+---------------+----------+\n",
      "|     2|  60756|          funny|1445714994|\n",
      "|     2|  60756|Highly quotable|1445714996|\n",
      "|     2|  60756|   will ferrell|1445714992|\n",
      "|     2|  89774|   Boxing story|1445715207|\n",
      "|     2|  89774|            MMA|1445715200|\n",
      "+------+-------+---------------+----------+\n",
      "only showing top 5 rows\n",
      "\n"
     ]
    }
   ],
   "source": [
    "tags_df.show(5)"
   ]
  },
  {
   "cell_type": "code",
   "execution_count": null,
   "metadata": {
    "colab": {
     "base_uri": "https://localhost:8080/",
     "height": 68
    },
    "id": "VeUxQZx1zW51",
    "outputId": "26f837e6-3336-44f4-cd2c-44d83a614ff5"
   },
   "outputs": [
    {
     "name": "stdout",
     "output_type": "stream",
     "text": [
      "For the users that rated movies and the movies that were rated:\n",
      "Minimum number of ratings per user is 20\n",
      "Minimum number of ratings per movie is 1\n"
     ]
    }
   ],
   "source": [
    "tmp1 = ratings_df.groupBy(\"userID\").count().toPandas()['count'].min()\n",
    "tmp2 = ratings_df.groupBy(\"movieId\").count().toPandas()['count'].min()\n",
    "print('For the users that rated movies and the movies that were rated:')\n",
    "print('Minimum number of ratings per user is {}'.format(tmp1))\n",
    "print('Minimum number of ratings per movie is {}'.format(tmp2))"
   ]
  },
  {
   "cell_type": "code",
   "execution_count": null,
   "metadata": {
    "colab": {
     "base_uri": "https://localhost:8080/",
     "height": 34
    },
    "id": "6mrhUm9Zzh6G",
    "outputId": "2bb34085-8b43-4d1d-caba-4d775af6d0b6"
   },
   "outputs": [
    {
     "name": "stdout",
     "output_type": "stream",
     "text": [
      "3446 out of 9724 movies are rated by only one user\n"
     ]
    }
   ],
   "source": [
    "tmp1 = sum(ratings_df.groupBy(\"movieId\").count().toPandas()['count'] == 1)\n",
    "tmp2 = ratings_df.select('movieId').distinct().count()\n",
    "print('{} out of {} movies are rated by only one user'.format(tmp1, tmp2))"
   ]
  },
  {
   "cell_type": "markdown",
   "metadata": {
    "id": "4t2cH5rw08D-"
   },
   "source": [
    "# Part 1: Spark SQL and OLAP"
   ]
  },
  {
   "cell_type": "code",
   "execution_count": null,
   "metadata": {
    "id": "HiH40ORB1Rr9"
   },
   "outputs": [],
   "source": [
    "movies_df.registerTempTable(\"movies\")\n",
    "ratings_df.registerTempTable(\"ratings\")\n",
    "links_df.registerTempTable(\"links\")\n",
    "tags_df.registerTempTable(\"tags\")"
   ]
  },
  {
   "cell_type": "markdown",
   "metadata": {
    "id": "EeKYhPR01IHr"
   },
   "source": [
    "### Q1: The number of Users"
   ]
  },
  {
   "cell_type": "code",
   "execution_count": null,
   "metadata": {
    "colab": {
     "base_uri": "https://localhost:8080/",
     "height": 119
    },
    "id": "mGnoh18w1F0W",
    "outputId": "1d6b0a11-958d-4d5c-dedc-6371d9a9068f"
   },
   "outputs": [
    {
     "name": "stdout",
     "output_type": "stream",
     "text": [
      "+---------------+\n",
      "|Number_of_Users|\n",
      "+---------------+\n",
      "|            610|\n",
      "+---------------+\n",
      "\n"
     ]
    }
   ],
   "source": [
    "q1_result=spark.sql(\"Select Count(Distinct userId) as Number_of_Users from ratings\")\n",
    "q1_result.show()"
   ]
  },
  {
   "cell_type": "markdown",
   "metadata": {
    "id": "DJsAsrIs4ifx"
   },
   "source": [
    "### Q2: The number of Movies"
   ]
  },
  {
   "cell_type": "code",
   "execution_count": null,
   "metadata": {
    "colab": {
     "base_uri": "https://localhost:8080/",
     "height": 119
    },
    "id": "Y7GHP20_4N-5",
    "outputId": "2bd33b76-a717-43bd-bc59-d30e07dcef36"
   },
   "outputs": [
    {
     "name": "stdout",
     "output_type": "stream",
     "text": [
      "+----------------+\n",
      "|Number_of_Moives|\n",
      "+----------------+\n",
      "|            9742|\n",
      "+----------------+\n",
      "\n"
     ]
    }
   ],
   "source": [
    "q2_result=spark.sql(\"Select Count(movieId) as Number_of_Moives from movies\")\n",
    "q2_result.show()"
   ]
  },
  {
   "cell_type": "markdown",
   "metadata": {
    "id": "axRsLKg85DhS"
   },
   "source": [
    "### Q3:  How many movies are rated by users? List movies not rated before"
   ]
  },
  {
   "cell_type": "code",
   "execution_count": null,
   "metadata": {
    "colab": {
     "base_uri": "https://localhost:8080/",
     "height": 119
    },
    "id": "TvAnFAkU5Fln",
    "outputId": "b16dc4c5-10d7-499a-bfbb-7488fba13214"
   },
   "outputs": [
    {
     "name": "stdout",
     "output_type": "stream",
     "text": [
      "+----------------------+\n",
      "|Number_of_Rated_Moives|\n",
      "+----------------------+\n",
      "|                  9724|\n",
      "+----------------------+\n",
      "\n"
     ]
    }
   ],
   "source": [
    "q3_result_1=spark.sql(\"Select Count(movieId) as Number_of_Rated_Moives From movies Where movieID in (Select movieId From ratings)\")\n",
    "q3_result_1.show()"
   ]
  },
  {
   "cell_type": "code",
   "execution_count": null,
   "metadata": {
    "colab": {
     "base_uri": "https://localhost:8080/",
     "height": 408
    },
    "id": "oGKwmS8J7y1b",
    "outputId": "2430811a-afb2-4c95-8a3f-3a27e88893b8"
   },
   "outputs": [
    {
     "name": "stdout",
     "output_type": "stream",
     "text": [
      "+-------+--------------------+\n",
      "|movieId|               title|\n",
      "+-------+--------------------+\n",
      "|   1076|Innocents, The (1...|\n",
      "|   2939|      Niagara (1953)|\n",
      "|   3338|For All Mankind (...|\n",
      "|   3456|Color of Paradise...|\n",
      "|   4194|I Know Where I'm ...|\n",
      "|   5721|  Chosen, The (1981)|\n",
      "|   6668|Road Home, The (W...|\n",
      "|   6849|      Scrooge (1970)|\n",
      "|   7020|        Proof (1991)|\n",
      "|   7792|Parallax View, Th...|\n",
      "|   8765|This Gun for Hire...|\n",
      "|  25855|Roaring Twenties,...|\n",
      "|  26085|Mutiny on the Bou...|\n",
      "|  30892|In the Realms of ...|\n",
      "|  32160|Twentieth Century...|\n",
      "|  32371|Call Northside 77...|\n",
      "|  34482|Browning Version,...|\n",
      "|  85565|  Chalet Girl (2011)|\n",
      "+-------+--------------------+\n",
      "\n"
     ]
    }
   ],
   "source": [
    "q3_result_2=spark.sql(\"Select movieId, title From movies Where movieID not in (Select movieId From ratings)\")\n",
    "q3_result_2.show()"
   ]
  },
  {
   "cell_type": "markdown",
   "metadata": {
    "id": "hDrUzAEA8j3R"
   },
   "source": [
    "### Q4: List Movie Genres"
   ]
  },
  {
   "cell_type": "code",
   "execution_count": null,
   "metadata": {
    "colab": {
     "base_uri": "https://localhost:8080/",
     "height": 442
    },
    "id": "quueW6Jl8hBW",
    "outputId": "adb18405-70fc-47aa-d09c-456e6e92991e"
   },
   "outputs": [
    {
     "name": "stdout",
     "output_type": "stream",
     "text": [
      "+------------------+\n",
      "|            genres|\n",
      "+------------------+\n",
      "|(no genres listed)|\n",
      "|            Action|\n",
      "|         Adventure|\n",
      "|         Animation|\n",
      "|          Children|\n",
      "|            Comedy|\n",
      "|             Crime|\n",
      "|       Documentary|\n",
      "|             Drama|\n",
      "|           Fantasy|\n",
      "|         Film-Noir|\n",
      "|            Horror|\n",
      "|              IMAX|\n",
      "|           Musical|\n",
      "|           Mystery|\n",
      "|           Romance|\n",
      "|            Sci-Fi|\n",
      "|          Thriller|\n",
      "|               War|\n",
      "|           Western|\n",
      "+------------------+\n",
      "\n"
     ]
    }
   ],
   "source": [
    "q4_result=spark.sql(\"Select Distinct explode(split(genres,'[|]')) as genres From movies Order by 1\")\n",
    "q4_result.show()"
   ]
  },
  {
   "cell_type": "markdown",
   "metadata": {
    "id": "z3OUmAESLY__"
   },
   "source": [
    "### Q5: Movie for Each Category"
   ]
  },
  {
   "cell_type": "code",
   "execution_count": null,
   "metadata": {
    "colab": {
     "base_uri": "https://localhost:8080/",
     "height": 442
    },
    "id": "t53GMhTrLYcy",
    "outputId": "08f65a71-5d19-46ae-e40a-7845b512360b"
   },
   "outputs": [
    {
     "name": "stdout",
     "output_type": "stream",
     "text": [
      "+------------------+----------------+\n",
      "|            genres|Number_of_Moives|\n",
      "+------------------+----------------+\n",
      "|             Drama|            4361|\n",
      "|            Comedy|            3756|\n",
      "|          Thriller|            1894|\n",
      "|            Action|            1828|\n",
      "|           Romance|            1596|\n",
      "|         Adventure|            1263|\n",
      "|             Crime|            1199|\n",
      "|            Sci-Fi|             980|\n",
      "|            Horror|             978|\n",
      "|           Fantasy|             779|\n",
      "|          Children|             664|\n",
      "|         Animation|             611|\n",
      "|           Mystery|             573|\n",
      "|       Documentary|             440|\n",
      "|               War|             382|\n",
      "|           Musical|             334|\n",
      "|           Western|             167|\n",
      "|              IMAX|             158|\n",
      "|         Film-Noir|              87|\n",
      "|(no genres listed)|              34|\n",
      "+------------------+----------------+\n",
      "\n"
     ]
    }
   ],
   "source": [
    "q5_result_1=spark.sql(\"Select genres,Count(movieId) as Number_of_Moives From(Select explode(split(genres,'[|]')) as genres, movieId From movies) Group By 1 Order by 2 DESC\")\n",
    "q5_result_1.show()"
   ]
  },
  {
   "cell_type": "code",
   "execution_count": null,
   "metadata": {
    "colab": {
     "base_uri": "https://localhost:8080/",
     "height": 442
    },
    "id": "HwPq3juBXk9L",
    "outputId": "ffd7a32e-82d1-4f19-c99a-4be69310c51c"
   },
   "outputs": [
    {
     "name": "stdout",
     "output_type": "stream",
     "text": [
      "+------------------+--------------------+\n",
      "|            genres|      list_of_movies|\n",
      "+------------------+--------------------+\n",
      "|             Crime|Stealing Rembrand...|\n",
      "|           Romance|Vampire in Brookl...|\n",
      "|          Thriller|Element of Crime,...|\n",
      "|         Adventure|Ice Age: Collisio...|\n",
      "|             Drama|Airport '77 (1977...|\n",
      "|               War|General, The (192...|\n",
      "|       Documentary|The Barkley Marat...|\n",
      "|           Fantasy|Masters of the Un...|\n",
      "|           Mystery|Before and After ...|\n",
      "|           Musical|U2: Rattle and Hu...|\n",
      "|         Animation|Ice Age: Collisio...|\n",
      "|         Film-Noir|Rififi (Du rififi...|\n",
      "|(no genres listed)|T2 3-D: Battle Ac...|\n",
      "|              IMAX|Harry Potter and ...|\n",
      "|            Horror|Underworld: Rise ...|\n",
      "|           Western|Man Who Shot Libe...|\n",
      "|            Comedy|Hysteria (2011),H...|\n",
      "|          Children|Ice Age: Collisio...|\n",
      "|            Action|Stealing Rembrand...|\n",
      "|            Sci-Fi|Push (2009),SORI:...|\n",
      "+------------------+--------------------+\n",
      "\n"
     ]
    }
   ],
   "source": [
    "q5_result_2=spark.sql(\"Select genres, concat_ws(',',collect_set(title)) as list_of_movies From(Select explode(split(genres,'[|]')) as genres, title From movies) Group By 1\")\n",
    "q5_result_2.show()"
   ]
  },
  {
   "cell_type": "markdown",
   "metadata": {
    "id": "aS11BgUKN8nZ"
   },
   "source": [
    "# Part2: Spark ALS based approach for training model\n",
    "We will use an Spark ML to predict the ratings, so let's reload \"ratings.csv\" using ``sc.textFile`` and then convert it to the form of (user, item, rating) tuples."
   ]
  },
  {
   "cell_type": "code",
   "execution_count": null,
   "metadata": {
    "colab": {
     "base_uri": "https://localhost:8080/",
     "height": 459
    },
    "id": "nuoD2YfyQfVq",
    "outputId": "a8ade89d-b7df-4088-b5dc-159dbfd1241e"
   },
   "outputs": [
    {
     "name": "stdout",
     "output_type": "stream",
     "text": [
      "+------+-------+------+---------+\n",
      "|userId|movieId|rating|timestamp|\n",
      "+------+-------+------+---------+\n",
      "|     1|      1|   4.0|964982703|\n",
      "|     1|      3|   4.0|964981247|\n",
      "|     1|      6|   4.0|964982224|\n",
      "|     1|     47|   5.0|964983815|\n",
      "|     1|     50|   5.0|964982931|\n",
      "|     1|     70|   3.0|964982400|\n",
      "|     1|    101|   5.0|964980868|\n",
      "|     1|    110|   4.0|964982176|\n",
      "|     1|    151|   5.0|964984041|\n",
      "|     1|    157|   5.0|964984100|\n",
      "|     1|    163|   5.0|964983650|\n",
      "|     1|    216|   5.0|964981208|\n",
      "|     1|    223|   3.0|964980985|\n",
      "|     1|    231|   5.0|964981179|\n",
      "|     1|    235|   4.0|964980908|\n",
      "|     1|    260|   5.0|964981680|\n",
      "|     1|    296|   3.0|964982967|\n",
      "|     1|    316|   3.0|964982310|\n",
      "|     1|    333|   5.0|964981179|\n",
      "|     1|    349|   4.0|964982563|\n",
      "+------+-------+------+---------+\n",
      "only showing top 20 rows\n",
      "\n"
     ]
    }
   ],
   "source": [
    "ratings_df.show()"
   ]
  },
  {
   "cell_type": "code",
   "execution_count": null,
   "metadata": {
    "id": "-6p0nDibQhKl"
   },
   "outputs": [],
   "source": [
    "movie_ratings=ratings_df.drop('timestamp')"
   ]
  },
  {
   "cell_type": "code",
   "execution_count": null,
   "metadata": {
    "id": "Db_Mg8FnQs4y"
   },
   "outputs": [],
   "source": [
    "# Data type convert\n",
    "from pyspark.sql.types import IntegerType, FloatType\n",
    "movie_ratings = movie_ratings.withColumn(\"userId\", movie_ratings[\"userId\"].cast(IntegerType()))\n",
    "movie_ratings = movie_ratings.withColumn(\"movieId\", movie_ratings[\"movieId\"].cast(IntegerType()))\n",
    "movie_ratings = movie_ratings.withColumn(\"rating\", movie_ratings[\"rating\"].cast(FloatType()))"
   ]
  },
  {
   "cell_type": "code",
   "execution_count": null,
   "metadata": {
    "colab": {
     "base_uri": "https://localhost:8080/",
     "height": 459
    },
    "id": "q7QagKRAQv49",
    "outputId": "35d61291-9b2e-4020-e79d-dae64626226f"
   },
   "outputs": [
    {
     "name": "stdout",
     "output_type": "stream",
     "text": [
      "+------+-------+------+\n",
      "|userId|movieId|rating|\n",
      "+------+-------+------+\n",
      "|     1|      1|   4.0|\n",
      "|     1|      3|   4.0|\n",
      "|     1|      6|   4.0|\n",
      "|     1|     47|   5.0|\n",
      "|     1|     50|   5.0|\n",
      "|     1|     70|   3.0|\n",
      "|     1|    101|   5.0|\n",
      "|     1|    110|   4.0|\n",
      "|     1|    151|   5.0|\n",
      "|     1|    157|   5.0|\n",
      "|     1|    163|   5.0|\n",
      "|     1|    216|   5.0|\n",
      "|     1|    223|   3.0|\n",
      "|     1|    231|   5.0|\n",
      "|     1|    235|   4.0|\n",
      "|     1|    260|   5.0|\n",
      "|     1|    296|   3.0|\n",
      "|     1|    316|   3.0|\n",
      "|     1|    333|   5.0|\n",
      "|     1|    349|   4.0|\n",
      "+------+-------+------+\n",
      "only showing top 20 rows\n",
      "\n"
     ]
    }
   ],
   "source": [
    "movie_ratings.show()"
   ]
  },
  {
   "cell_type": "markdown",
   "metadata": {
    "id": "IBfAd44cQ0aj"
   },
   "source": [
    "### ALS Model Selection and Evaluation\n",
    "\n",
    "With the ALS model, we can use a grid search to find the optimal hyperparameters."
   ]
  },
  {
   "cell_type": "code",
   "execution_count": null,
   "metadata": {
    "id": "Wc9CF4YhQ5fq"
   },
   "outputs": [],
   "source": [
    "# import package\n",
    "from pyspark.ml.evaluation import RegressionEvaluator\n",
    "from pyspark.ml.recommendation import ALS\n",
    "from pyspark.ml.tuning import CrossValidator,ParamGridBuilder"
   ]
  },
  {
   "cell_type": "code",
   "execution_count": null,
   "metadata": {
    "id": "rGAdsCyeQ9Tk"
   },
   "outputs": [],
   "source": [
    "#Create test and train set\n",
    "(training,test)=movie_ratings.randomSplit([0.8,0.2])"
   ]
  },
  {
   "cell_type": "code",
   "execution_count": null,
   "metadata": {
    "id": "zF7ee7xnQ-kX"
   },
   "outputs": [],
   "source": [
    "#Create ALS model\n",
    "als = ALS(maxIter=5, rank=10, regParam=0.01, userCol=\"userId\", itemCol=\"movieId\", ratingCol=\"rating\",\n",
    "          coldStartStrategy=\"drop\")"
   ]
  },
  {
   "cell_type": "code",
   "execution_count": null,
   "metadata": {
    "id": "_RGK-DMt1pzr"
   },
   "outputs": [],
   "source": [
    "#Tune model using ParamGridBuilder\n",
    "paramGrid = (ParamGridBuilder()\n",
    "             .addGrid(als.regParam, [0.05, 0.1, 0.3, 0.5])\n",
    "             .addGrid(als.rank, [5, 10, 15])\n",
    "             .addGrid(als.maxIter, [1, 5, 10])\n",
    "             .build())"
   ]
  },
  {
   "cell_type": "code",
   "execution_count": null,
   "metadata": {
    "id": "gaJJLOy52JRM"
   },
   "outputs": [],
   "source": [
    "# Define evaluator as RMSE\n",
    "evaluator = RegressionEvaluator(metricName=\"rmse\", labelCol=\"rating\",\n",
    "                                predictionCol=\"prediction\")"
   ]
  },
  {
   "cell_type": "code",
   "execution_count": null,
   "metadata": {
    "id": "dOvSBHqP2PxU"
   },
   "outputs": [],
   "source": [
    "# Build Cross validation \n",
    "cv = CrossValidator(estimator=als, estimatorParamMaps=paramGrid, evaluator=evaluator, numFolds=5)"
   ]
  },
  {
   "cell_type": "code",
   "execution_count": null,
   "metadata": {
    "id": "U_UTTdDa2ZsJ"
   },
   "outputs": [],
   "source": [
    "#Fit ALS model to training data\n",
    "cvModel = cv.fit(training)"
   ]
  },
  {
   "cell_type": "code",
   "execution_count": null,
   "metadata": {
    "id": "v7V39t2U2dd1"
   },
   "outputs": [],
   "source": [
    "#Extract best model from the tuning exercise using ParamGridBuilder\n",
    "bestModel=cvModel.bestModel"
   ]
  },
  {
   "cell_type": "markdown",
   "metadata": {
    "id": "XsL-ufvNz_oP"
   },
   "source": [
    "### Model testing\n",
    "And finally, make a prediction and check the testing error."
   ]
  },
  {
   "cell_type": "code",
   "execution_count": null,
   "metadata": {
    "id": "1DSbaAr_0Jc3"
   },
   "outputs": [],
   "source": [
    "#Generate predictions and evaluate using RMSE\n",
    "predictions=bestModel.transform(test)\n",
    "rmse = evaluator.evaluate(predictions)"
   ]
  },
  {
   "cell_type": "code",
   "execution_count": null,
   "metadata": {
    "colab": {
     "base_uri": "https://localhost:8080/",
     "height": 102
    },
    "id": "i6F_F4br0OpL",
    "outputId": "c7d5344f-71e3-4209-8bef-e3b536139b72"
   },
   "outputs": [
    {
     "name": "stdout",
     "output_type": "stream",
     "text": [
      "RMSE = 0.8841516298164385\n",
      "**Best Model**\n",
      " Rank:  5\n",
      " MaxIter:  10\n",
      " RegParam:  0.1\n"
     ]
    }
   ],
   "source": [
    "#Print evaluation metrics and model parameters\n",
    "print (\"RMSE = \"+str(rmse))\n",
    "print (\"**Best Model**\")\n",
    "print (\" Rank: \", str(bestModel._java_obj.parent().getRank())),\n",
    "print (\" MaxIter: \", str(bestModel._java_obj.parent().getMaxIter())), \n",
    "print (\" RegParam: \", str(bestModel._java_obj.parent().getRegParam()))"
   ]
  },
  {
   "cell_type": "code",
   "execution_count": null,
   "metadata": {
    "colab": {
     "base_uri": "https://localhost:8080/",
     "height": 459
    },
    "id": "QLjY6-OC5HIP",
    "outputId": "712400c4-c855-488d-9435-ce538dbb9913"
   },
   "outputs": [
    {
     "name": "stdout",
     "output_type": "stream",
     "text": [
      "+------+-------+------+----------+\n",
      "|userId|movieId|rating|prediction|\n",
      "+------+-------+------+----------+\n",
      "|    91|    471|   1.0| 3.4323022|\n",
      "|   218|    471|   4.0| 3.0170097|\n",
      "|   387|    471|   3.0| 3.0230432|\n",
      "|   312|    471|   4.0| 3.5635166|\n",
      "|   469|    471|   5.0| 3.4064238|\n",
      "|   426|    471|   5.0| 3.1981883|\n",
      "|   260|    471|   4.5| 3.1806548|\n",
      "|   104|    471|   4.5| 3.2562525|\n",
      "|   463|   1088|   3.5|  3.427435|\n",
      "|   159|   1088|   4.0| 3.0020626|\n",
      "|   606|   1088|   3.0|  3.067695|\n",
      "|   111|   1088|   3.0| 3.6050856|\n",
      "|    47|   1088|   4.0| 2.3147006|\n",
      "|   177|   1088|   3.5| 3.4895747|\n",
      "|   479|   1088|   4.0|  3.139378|\n",
      "|   554|   1088|   5.0| 3.5118544|\n",
      "|   594|   1088|   4.5|  4.278222|\n",
      "|    10|   1088|   3.0| 3.2420814|\n",
      "|   116|   1088|   4.5| 3.3564475|\n",
      "|    19|   1238|   3.0|  3.167931|\n",
      "+------+-------+------+----------+\n",
      "only showing top 20 rows\n",
      "\n"
     ]
    }
   ],
   "source": [
    "predictions.show()"
   ]
  },
  {
   "cell_type": "markdown",
   "metadata": {
    "id": "rD63B3RE5JdX"
   },
   "source": [
    "### Model apply and see the performance"
   ]
  },
  {
   "cell_type": "code",
   "execution_count": null,
   "metadata": {
    "colab": {
     "base_uri": "https://localhost:8080/",
     "height": 34
    },
    "id": "-ma-QzXv5KQ1",
    "outputId": "6a8156ba-e601-4597-b481-87037c1d0562"
   },
   "outputs": [
    {
     "name": "stdout",
     "output_type": "stream",
     "text": [
      "RMSE = 0.690710880006859\n"
     ]
    }
   ],
   "source": [
    "alldata=bestModel.transform(movie_ratings)\n",
    "rmse = evaluator.evaluate(alldata)\n",
    "print (\"RMSE = \"+str(rmse))"
   ]
  },
  {
   "cell_type": "code",
   "execution_count": null,
   "metadata": {
    "id": "glJ7XjAk5P--"
   },
   "outputs": [],
   "source": [
    "alldata.registerTempTable(\"alldata\")"
   ]
  },
  {
   "cell_type": "code",
   "execution_count": null,
   "metadata": {
    "colab": {
     "base_uri": "https://localhost:8080/",
     "height": 459
    },
    "id": "BW0908ad5R42",
    "outputId": "50dfa1ad-bb13-4558-993c-6ab824d46509"
   },
   "outputs": [
    {
     "name": "stdout",
     "output_type": "stream",
     "text": [
      "+------+-------+------+----------+\n",
      "|userId|movieId|rating|prediction|\n",
      "+------+-------+------+----------+\n",
      "|   191|    148|   5.0| 4.9218035|\n",
      "|   133|    471|   4.0| 3.2228916|\n",
      "|   597|    471|   2.0| 3.7315211|\n",
      "|   385|    471|   4.0| 3.4770637|\n",
      "|   436|    471|   3.0| 3.4019136|\n",
      "|   602|    471|   4.0| 3.4198265|\n",
      "|    91|    471|   1.0| 3.4323022|\n",
      "|   409|    471|   3.0|  4.106057|\n",
      "|   372|    471|   3.0| 2.7508132|\n",
      "|   599|    471|   2.5| 2.7531638|\n",
      "|   603|    471|   4.0| 3.4116812|\n",
      "|   182|    471|   4.5|  3.184734|\n",
      "|   218|    471|   4.0| 3.0170097|\n",
      "|   474|    471|   3.0| 3.5461674|\n",
      "|   500|    471|   1.0|  2.102999|\n",
      "|    57|    471|   3.0| 3.7029545|\n",
      "|   462|    471|   2.5| 3.3789701|\n",
      "|   387|    471|   3.0| 3.0230432|\n",
      "|   610|    471|   4.0| 3.8253715|\n",
      "|   217|    471|   2.0| 2.6545913|\n",
      "+------+-------+------+----------+\n",
      "only showing top 20 rows\n",
      "\n"
     ]
    }
   ],
   "source": [
    "spark.sql(\"Select * From alldata\").show()"
   ]
  },
  {
   "cell_type": "code",
   "execution_count": null,
   "metadata": {
    "colab": {
     "base_uri": "https://localhost:8080/",
     "height": 459
    },
    "id": "hmVDrwsD5TYY",
    "outputId": "eabec3fe-64ac-448a-a5bb-9279cea88f75"
   },
   "outputs": [
    {
     "name": "stdout",
     "output_type": "stream",
     "text": [
      "+-------+--------------------+------+------+-------+------+----------+\n",
      "|movieId|               title|genres|userId|movieId|rating|prediction|\n",
      "+-------+--------------------+------+------+-------+------+----------+\n",
      "|    148|Awfully Big Adven...| Drama|   191|    148|   5.0| 4.9218035|\n",
      "|    471|Hudsucker Proxy, ...|Comedy|   133|    471|   4.0| 3.2228916|\n",
      "|    471|Hudsucker Proxy, ...|Comedy|   597|    471|   2.0| 3.7315211|\n",
      "|    471|Hudsucker Proxy, ...|Comedy|   385|    471|   4.0| 3.4770637|\n",
      "|    471|Hudsucker Proxy, ...|Comedy|   436|    471|   3.0| 3.4019136|\n",
      "|    471|Hudsucker Proxy, ...|Comedy|   602|    471|   4.0| 3.4198265|\n",
      "|    471|Hudsucker Proxy, ...|Comedy|    91|    471|   1.0| 3.4323022|\n",
      "|    471|Hudsucker Proxy, ...|Comedy|   409|    471|   3.0|  4.106057|\n",
      "|    471|Hudsucker Proxy, ...|Comedy|   372|    471|   3.0| 2.7508132|\n",
      "|    471|Hudsucker Proxy, ...|Comedy|   599|    471|   2.5| 2.7531638|\n",
      "|    471|Hudsucker Proxy, ...|Comedy|   603|    471|   4.0| 3.4116812|\n",
      "|    471|Hudsucker Proxy, ...|Comedy|   182|    471|   4.5|  3.184734|\n",
      "|    471|Hudsucker Proxy, ...|Comedy|   218|    471|   4.0| 3.0170097|\n",
      "|    471|Hudsucker Proxy, ...|Comedy|   474|    471|   3.0| 3.5461674|\n",
      "|    471|Hudsucker Proxy, ...|Comedy|   500|    471|   1.0|  2.102999|\n",
      "|    471|Hudsucker Proxy, ...|Comedy|    57|    471|   3.0| 3.7029545|\n",
      "|    471|Hudsucker Proxy, ...|Comedy|   462|    471|   2.5| 3.3789701|\n",
      "|    471|Hudsucker Proxy, ...|Comedy|   387|    471|   3.0| 3.0230432|\n",
      "|    471|Hudsucker Proxy, ...|Comedy|   610|    471|   4.0| 3.8253715|\n",
      "|    471|Hudsucker Proxy, ...|Comedy|   217|    471|   2.0| 2.6545913|\n",
      "+-------+--------------------+------+------+-------+------+----------+\n",
      "only showing top 20 rows\n",
      "\n"
     ]
    }
   ],
   "source": [
    "spark.sql(\"select * from movies join alldata on movies.movieId=alldata.movieId\").show()"
   ]
  },
  {
   "cell_type": "markdown",
   "metadata": {
    "id": "UGITMi8k5uOx"
   },
   "source": [
    "# Recommend moive to users with id: 575, 232. \n",
    "you can choose some users to recommend the moives "
   ]
  },
  {
   "cell_type": "code",
   "execution_count": null,
   "metadata": {
    "colab": {
     "base_uri": "https://localhost:8080/",
     "height": 272
    },
    "id": "QjBgEltJ5rYw",
    "outputId": "0ab9d299-8ef5-4b35-a6a4-56296548f6f5"
   },
   "outputs": [
    {
     "name": "stdout",
     "output_type": "stream",
     "text": [
      "Collecting koalas\n",
      "\u001b[?25l  Downloading https://files.pythonhosted.org/packages/b6/c6/6fc08536962059596b2cbf6dae626f33e60ea171fbd5172297813de5dcf8/koalas-1.1.0-py3-none-any.whl (1.1MB)\n",
      "\u001b[K     |████████████████████████████████| 1.1MB 2.3MB/s \n",
      "\u001b[?25hRequirement already satisfied: matplotlib>=3.0.0 in /usr/local/lib/python3.6/dist-packages (from koalas) (3.2.2)\n",
      "Requirement already satisfied: numpy>=1.14 in /usr/local/lib/python3.6/dist-packages (from koalas) (1.18.5)\n",
      "Requirement already satisfied: pyarrow>=0.10 in /usr/local/lib/python3.6/dist-packages (from koalas) (0.14.1)\n",
      "Requirement already satisfied: pandas>=0.23.2 in /usr/local/lib/python3.6/dist-packages (from koalas) (1.0.5)\n",
      "Requirement already satisfied: pyparsing!=2.0.4,!=2.1.2,!=2.1.6,>=2.0.1 in /usr/local/lib/python3.6/dist-packages (from matplotlib>=3.0.0->koalas) (2.4.7)\n",
      "Requirement already satisfied: kiwisolver>=1.0.1 in /usr/local/lib/python3.6/dist-packages (from matplotlib>=3.0.0->koalas) (1.2.0)\n",
      "Requirement already satisfied: cycler>=0.10 in /usr/local/lib/python3.6/dist-packages (from matplotlib>=3.0.0->koalas) (0.10.0)\n",
      "Requirement already satisfied: python-dateutil>=2.1 in /usr/local/lib/python3.6/dist-packages (from matplotlib>=3.0.0->koalas) (2.8.1)\n",
      "Requirement already satisfied: six>=1.0.0 in /usr/local/lib/python3.6/dist-packages (from pyarrow>=0.10->koalas) (1.12.0)\n",
      "Requirement already satisfied: pytz>=2017.2 in /usr/local/lib/python3.6/dist-packages (from pandas>=0.23.2->koalas) (2018.9)\n",
      "Installing collected packages: koalas\n",
      "Successfully installed koalas-1.1.0\n"
     ]
    }
   ],
   "source": [
    "!pip install koalas\n",
    "import databricks.koalas as ks"
   ]
  },
  {
   "cell_type": "code",
   "execution_count": null,
   "metadata": {
    "id": "x7RiuDiAmbvo"
   },
   "outputs": [],
   "source": [
    "userRecs = bestModel.recommendForAllUsers(10)"
   ]
  },
  {
   "cell_type": "code",
   "execution_count": null,
   "metadata": {
    "id": "MPZtigjZtQFu"
   },
   "outputs": [],
   "source": [
    "userRecs_ks=userRecs.to_koalas()\n",
    "movies_ks=movies_df.to_koalas()"
   ]
  },
  {
   "cell_type": "code",
   "execution_count": null,
   "metadata": {
    "id": "hvS9bfm6uEmq"
   },
   "outputs": [],
   "source": [
    "def movieRecommendation(inputId):\n",
    "  recs_list=[]\n",
    "  for recs in userRecs_ks.loc[str(inputId), 'recommendations']:\n",
    "    recs_list.append(str(recs[0]))\n",
    "  return (movies_ks[movies_ks['movieId'].isin(recs_list)])"
   ]
  },
  {
   "cell_type": "code",
   "execution_count": null,
   "metadata": {
    "colab": {
     "base_uri": "https://localhost:8080/",
     "height": 376
    },
    "id": "1AF0nPOfyYFi",
    "outputId": "6bc1a7d7-ffb8-401d-bcbb-a5d3c6a3b640"
   },
   "outputs": [
    {
     "name": "stdout",
     "output_type": "stream",
     "text": [
      "Recommended movies for user with id '575' are as follows.\n"
     ]
    },
    {
     "data": {
      "text/html": [
       "<div>\n",
       "<style scoped>\n",
       "    .dataframe tbody tr th:only-of-type {\n",
       "        vertical-align: middle;\n",
       "    }\n",
       "\n",
       "    .dataframe tbody tr th {\n",
       "        vertical-align: top;\n",
       "    }\n",
       "\n",
       "    .dataframe thead th {\n",
       "        text-align: right;\n",
       "    }\n",
       "</style>\n",
       "<table border=\"1\" class=\"dataframe\">\n",
       "  <thead>\n",
       "    <tr style=\"text-align: right;\">\n",
       "      <th></th>\n",
       "      <th>movieId</th>\n",
       "      <th>title</th>\n",
       "      <th>genres</th>\n",
       "    </tr>\n",
       "  </thead>\n",
       "  <tbody>\n",
       "    <tr>\n",
       "      <th>2368</th>\n",
       "      <td>3142</td>\n",
       "      <td>U2: Rattle and Hum (1988)</td>\n",
       "      <td>Documentary|Musical</td>\n",
       "    </tr>\n",
       "    <tr>\n",
       "      <th>2926</th>\n",
       "      <td>3925</td>\n",
       "      <td>Stranger Than Paradise (1984)</td>\n",
       "      <td>Comedy|Drama</td>\n",
       "    </tr>\n",
       "    <tr>\n",
       "      <th>5458</th>\n",
       "      <td>26133</td>\n",
       "      <td>Charlie Brown Christmas, A (1965)</td>\n",
       "      <td>Animation|Children|Comedy</td>\n",
       "    </tr>\n",
       "    <tr>\n",
       "      <th>5467</th>\n",
       "      <td>26171</td>\n",
       "      <td>Play Time (a.k.a. Playtime) (1967)</td>\n",
       "      <td>Comedy</td>\n",
       "    </tr>\n",
       "    <tr>\n",
       "      <th>5867</th>\n",
       "      <td>32892</td>\n",
       "      <td>Ivan's Childhood (a.k.a. My Name is Ivan) (Iva...</td>\n",
       "      <td>Drama|War</td>\n",
       "    </tr>\n",
       "    <tr>\n",
       "      <th>6728</th>\n",
       "      <td>59018</td>\n",
       "      <td>Visitor, The (2007)</td>\n",
       "      <td>Drama|Romance</td>\n",
       "    </tr>\n",
       "    <tr>\n",
       "      <th>6813</th>\n",
       "      <td>60943</td>\n",
       "      <td>Frozen River (2008)</td>\n",
       "      <td>Drama</td>\n",
       "    </tr>\n",
       "    <tr>\n",
       "      <th>6986</th>\n",
       "      <td>66943</td>\n",
       "      <td>Cottage, The (2008)</td>\n",
       "      <td>Comedy|Crime|Horror|Thriller</td>\n",
       "    </tr>\n",
       "    <tr>\n",
       "      <th>7001</th>\n",
       "      <td>67695</td>\n",
       "      <td>Observe and Report (2009)</td>\n",
       "      <td>Action|Comedy</td>\n",
       "    </tr>\n",
       "    <tr>\n",
       "      <th>7817</th>\n",
       "      <td>92643</td>\n",
       "      <td>Monsieur Lazhar (2011)</td>\n",
       "      <td>Children|Comedy|Drama</td>\n",
       "    </tr>\n",
       "  </tbody>\n",
       "</table>\n",
       "</div>"
      ],
      "text/plain": [
       "     movieId                                                               title                        genres\n",
       "2368    3142                                           U2: Rattle and Hum (1988)           Documentary|Musical\n",
       "2926    3925                                       Stranger Than Paradise (1984)                  Comedy|Drama\n",
       "5458   26133                                   Charlie Brown Christmas, A (1965)     Animation|Children|Comedy\n",
       "5467   26171                                  Play Time (a.k.a. Playtime) (1967)                        Comedy\n",
       "5867   32892  Ivan's Childhood (a.k.a. My Name is Ivan) (Ivanovo detstvo) (1962)                     Drama|War\n",
       "6728   59018                                                 Visitor, The (2007)                 Drama|Romance\n",
       "6813   60943                                                 Frozen River (2008)                         Drama\n",
       "6986   66943                                                 Cottage, The (2008)  Comedy|Crime|Horror|Thriller\n",
       "7001   67695                                           Observe and Report (2009)                 Action|Comedy\n",
       "7817   92643                                              Monsieur Lazhar (2011)         Children|Comedy|Drama"
      ]
     },
     "execution_count": 161,
     "metadata": {
      "tags": []
     },
     "output_type": "execute_result"
    }
   ],
   "source": [
    "print(\"Recommended movies for user with id '575' are as follows.\")\n",
    "movieRecommendation(575)"
   ]
  },
  {
   "cell_type": "code",
   "execution_count": null,
   "metadata": {
    "colab": {
     "base_uri": "https://localhost:8080/",
     "height": 376
    },
    "id": "Jkh88v1uzBy5",
    "outputId": "2973fa87-3cdc-45ec-eeb5-ceafd22e1802"
   },
   "outputs": [
    {
     "name": "stdout",
     "output_type": "stream",
     "text": [
      "Recommended movies for user with id '232' are as follows.\n"
     ]
    },
    {
     "data": {
      "text/html": [
       "<div>\n",
       "<style scoped>\n",
       "    .dataframe tbody tr th:only-of-type {\n",
       "        vertical-align: middle;\n",
       "    }\n",
       "\n",
       "    .dataframe tbody tr th {\n",
       "        vertical-align: top;\n",
       "    }\n",
       "\n",
       "    .dataframe thead th {\n",
       "        text-align: right;\n",
       "    }\n",
       "</style>\n",
       "<table border=\"1\" class=\"dataframe\">\n",
       "  <thead>\n",
       "    <tr style=\"text-align: right;\">\n",
       "      <th></th>\n",
       "      <th>movieId</th>\n",
       "      <th>title</th>\n",
       "      <th>genres</th>\n",
       "    </tr>\n",
       "  </thead>\n",
       "  <tbody>\n",
       "    <tr>\n",
       "      <th>924</th>\n",
       "      <td>1223</td>\n",
       "      <td>Grand Day Out with Wallace and Gromit, A (1989)</td>\n",
       "      <td>Adventure|Animation|Children|Comedy|Sci-Fi</td>\n",
       "    </tr>\n",
       "    <tr>\n",
       "      <th>2283</th>\n",
       "      <td>3030</td>\n",
       "      <td>Yojimbo (1961)</td>\n",
       "      <td>Action|Adventure</td>\n",
       "    </tr>\n",
       "    <tr>\n",
       "      <th>2427</th>\n",
       "      <td>3235</td>\n",
       "      <td>Where the Buffalo Roam (1980)</td>\n",
       "      <td>Comedy</td>\n",
       "    </tr>\n",
       "    <tr>\n",
       "      <th>2523</th>\n",
       "      <td>3379</td>\n",
       "      <td>On the Beach (1959)</td>\n",
       "      <td>Drama</td>\n",
       "    </tr>\n",
       "    <tr>\n",
       "      <th>4121</th>\n",
       "      <td>5915</td>\n",
       "      <td>Victory (a.k.a. Escape to Victory) (1981)</td>\n",
       "      <td>Action|Drama|War</td>\n",
       "    </tr>\n",
       "    <tr>\n",
       "      <th>4590</th>\n",
       "      <td>6818</td>\n",
       "      <td>Come and See (Idi i smotri) (1985)</td>\n",
       "      <td>Drama|War</td>\n",
       "    </tr>\n",
       "    <tr>\n",
       "      <th>5202</th>\n",
       "      <td>8477</td>\n",
       "      <td>Jetée, La (1962)</td>\n",
       "      <td>Romance|Sci-Fi</td>\n",
       "    </tr>\n",
       "    <tr>\n",
       "      <th>5230</th>\n",
       "      <td>8542</td>\n",
       "      <td>Day at the Races, A (1937)</td>\n",
       "      <td>Comedy|Musical</td>\n",
       "    </tr>\n",
       "    <tr>\n",
       "      <th>7037</th>\n",
       "      <td>68945</td>\n",
       "      <td>Neon Genesis Evangelion: Death &amp; Rebirth (Shin...</td>\n",
       "      <td>Action|Animation|Mystery|Sci-Fi</td>\n",
       "    </tr>\n",
       "    <tr>\n",
       "      <th>8839</th>\n",
       "      <td>132333</td>\n",
       "      <td>Seve (2014)</td>\n",
       "      <td>Documentary|Drama</td>\n",
       "    </tr>\n",
       "  </tbody>\n",
       "</table>\n",
       "</div>"
      ],
      "text/plain": [
       "     movieId                                                                                              title                                      genres\n",
       "924     1223                                                    Grand Day Out with Wallace and Gromit, A (1989)  Adventure|Animation|Children|Comedy|Sci-Fi\n",
       "2283    3030                                                                                     Yojimbo (1961)                            Action|Adventure\n",
       "2427    3235                                                                      Where the Buffalo Roam (1980)                                      Comedy\n",
       "2523    3379                                                                                On the Beach (1959)                                       Drama\n",
       "4121    5915                                                          Victory (a.k.a. Escape to Victory) (1981)                            Action|Drama|War\n",
       "4590    6818                                                                 Come and See (Idi i smotri) (1985)                                   Drama|War\n",
       "5202    8477                                                                                   Jetée, La (1962)                              Romance|Sci-Fi\n",
       "5230    8542                                                                         Day at the Races, A (1937)                              Comedy|Musical\n",
       "7037   68945  Neon Genesis Evangelion: Death & Rebirth (Shin seiki Evangelion Gekijô-ban: Shito shinsei) (1997)             Action|Animation|Mystery|Sci-Fi\n",
       "8839  132333                                                                                        Seve (2014)                           Documentary|Drama"
      ]
     },
     "execution_count": 162,
     "metadata": {
      "tags": []
     },
     "output_type": "execute_result"
    }
   ],
   "source": [
    "print(\"Recommended movies for user with id '232' are as follows.\")\n",
    "movieRecommendation(232)"
   ]
  },
  {
   "cell_type": "markdown",
   "metadata": {
    "id": "61xZKXPt56iN"
   },
   "source": [
    "# Find the similar moives for moive with id: 463, 471\n",
    "\n",
    "1.   列表项\n",
    "2.   列表项\n",
    "\n",
    "\n",
    "You can find the similar moives based on the ALS results"
   ]
  },
  {
   "cell_type": "code",
   "execution_count": null,
   "metadata": {
    "id": "NOjlGTU55ul3"
   },
   "outputs": [],
   "source": [
    "itemFactors=bestModel.itemFactors.to_koalas()"
   ]
  },
  {
   "cell_type": "code",
   "execution_count": null,
   "metadata": {
    "id": "US_SOIfa_NhK"
   },
   "outputs": [],
   "source": [
    "def similarMovies(inputId, matrix='cosine_similarity'):\n",
    "  try:\n",
    "    movieFeature=itemFactors.loc[itemFactors.id==str(inputId),'features'].to_numpy()[0]\n",
    "  except:\n",
    "    return 'There is no movie with id ' + str(inputId)\n",
    "  \n",
    "  if matrix=='cosine_similarity':\n",
    "    similarMovie=pd.DataFrame(columns=('movieId','cosine_similarity'))\n",
    "    for id,feature in itemFactors.to_numpy():\n",
    "      cs=np.dot(movieFeature,feature)/(np.linalg.norm(movieFeature) * np.linalg.norm(feature))\n",
    "      similarMovie=similarMovie.append({'movieId':str(id), 'cosine_similarity':cs}, ignore_index=True)\n",
    "    similarMovie_cs=similarMovie.sort_values(by=['cosine_similarity'],ascending = False)[1:11]\n",
    "    joint=similarMovie_cs.merge(movies_ks.to_pandas(), left_on='movieId', right_on = 'movieId', how = 'inner')\n",
    "  if matrix=='euclidean_distance':\n",
    "    similarMovie=pd.DataFrame(columns=('movieId','euclidean_distance'))\n",
    "    for id,feature in itemFactors.to_numpy():\n",
    "      ed=np.linalg.norm(np.array(movieFeature)-np.array(feature))\n",
    "      similarMovie=similarMovie.append({'movieId':str(id), 'euclidean_distance':ed}, ignore_index=True)\n",
    "    similarMovie_ed=similarMovie.sort_values(by=['euclidean_distance'])[1:11]\n",
    "    joint=similarMovie_ed.merge(movies_ks.to_pandas(), left_on='movieId', right_on = 'movieId', how = 'inner')\n",
    "  return joint[['movieId','title','genres']]"
   ]
  },
  {
   "cell_type": "code",
   "execution_count": null,
   "metadata": {
    "colab": {
     "base_uri": "https://localhost:8080/",
     "height": 35
    },
    "id": "8m5-p580csIF",
    "outputId": "fd8c1da9-1a08-452d-b126-308aa7bc9db6"
   },
   "outputs": [
    {
     "data": {
      "application/vnd.google.colaboratory.intrinsic": {
       "type": "string"
      },
      "text/plain": [
       "'There is no movie with id 463'"
      ]
     },
     "execution_count": 158,
     "metadata": {
      "tags": []
     },
     "output_type": "execute_result"
    }
   ],
   "source": [
    "similarMovies(463)"
   ]
  },
  {
   "cell_type": "code",
   "execution_count": null,
   "metadata": {
    "id": "f3s4fpXdURzy"
   },
   "outputs": [],
   "source": [
    "print('Similar movies based on cosine similarity matrix are as follows.')\n",
    "similarMovies(471, 'cosine_similarity')"
   ]
  },
  {
   "cell_type": "code",
   "execution_count": null,
   "metadata": {
    "colab": {
     "base_uri": "https://localhost:8080/",
     "height": 376
    },
    "id": "aungVZ69aprF",
    "outputId": "5546d5fb-9f80-4a88-bc5b-4d4e0d44ce64"
   },
   "outputs": [
    {
     "name": "stdout",
     "output_type": "stream",
     "text": [
      "similar movies based on euclidean distance matrix are as follows.\n"
     ]
    },
    {
     "data": {
      "text/html": [
       "<div>\n",
       "<style scoped>\n",
       "    .dataframe tbody tr th:only-of-type {\n",
       "        vertical-align: middle;\n",
       "    }\n",
       "\n",
       "    .dataframe tbody tr th {\n",
       "        vertical-align: top;\n",
       "    }\n",
       "\n",
       "    .dataframe thead th {\n",
       "        text-align: right;\n",
       "    }\n",
       "</style>\n",
       "<table border=\"1\" class=\"dataframe\">\n",
       "  <thead>\n",
       "    <tr style=\"text-align: right;\">\n",
       "      <th></th>\n",
       "      <th>movieId</th>\n",
       "      <th>title</th>\n",
       "      <th>genres</th>\n",
       "    </tr>\n",
       "  </thead>\n",
       "  <tbody>\n",
       "    <tr>\n",
       "      <th>0</th>\n",
       "      <td>3396</td>\n",
       "      <td>Muppet Movie, The (1979)</td>\n",
       "      <td>Adventure|Children|Comedy|Musical</td>\n",
       "    </tr>\n",
       "    <tr>\n",
       "      <th>1</th>\n",
       "      <td>531</td>\n",
       "      <td>Secret Garden, The (1993)</td>\n",
       "      <td>Children|Drama</td>\n",
       "    </tr>\n",
       "    <tr>\n",
       "      <th>2</th>\n",
       "      <td>1220</td>\n",
       "      <td>Blues Brothers, The (1980)</td>\n",
       "      <td>Action|Comedy|Musical</td>\n",
       "    </tr>\n",
       "    <tr>\n",
       "      <th>3</th>\n",
       "      <td>3671</td>\n",
       "      <td>Blazing Saddles (1974)</td>\n",
       "      <td>Comedy|Western</td>\n",
       "    </tr>\n",
       "    <tr>\n",
       "      <th>4</th>\n",
       "      <td>2922</td>\n",
       "      <td>Hang 'Em High (1968)</td>\n",
       "      <td>Crime|Drama|Western</td>\n",
       "    </tr>\n",
       "    <tr>\n",
       "      <th>5</th>\n",
       "      <td>5876</td>\n",
       "      <td>Quiet American, The (2002)</td>\n",
       "      <td>Drama|Thriller|War</td>\n",
       "    </tr>\n",
       "    <tr>\n",
       "      <th>6</th>\n",
       "      <td>952</td>\n",
       "      <td>Around the World in 80 Days (1956)</td>\n",
       "      <td>Adventure|Comedy</td>\n",
       "    </tr>\n",
       "    <tr>\n",
       "      <th>7</th>\n",
       "      <td>7728</td>\n",
       "      <td>Postman Always Rings Twice, The (1946)</td>\n",
       "      <td>Crime|Drama|Film-Noir|Thriller</td>\n",
       "    </tr>\n",
       "    <tr>\n",
       "      <th>8</th>\n",
       "      <td>6283</td>\n",
       "      <td>Cowboy Bebop: The Movie (Cowboy Bebop: Tengoku...</td>\n",
       "      <td>Action|Animation|Sci-Fi|Thriller</td>\n",
       "    </tr>\n",
       "    <tr>\n",
       "      <th>9</th>\n",
       "      <td>2109</td>\n",
       "      <td>Jerk, The (1979)</td>\n",
       "      <td>Comedy</td>\n",
       "    </tr>\n",
       "  </tbody>\n",
       "</table>\n",
       "</div>"
      ],
      "text/plain": [
       "  movieId  ...                             genres\n",
       "0    3396  ...  Adventure|Children|Comedy|Musical\n",
       "1     531  ...                     Children|Drama\n",
       "2    1220  ...              Action|Comedy|Musical\n",
       "3    3671  ...                     Comedy|Western\n",
       "4    2922  ...                Crime|Drama|Western\n",
       "5    5876  ...                 Drama|Thriller|War\n",
       "6     952  ...                   Adventure|Comedy\n",
       "7    7728  ...     Crime|Drama|Film-Noir|Thriller\n",
       "8    6283  ...   Action|Animation|Sci-Fi|Thriller\n",
       "9    2109  ...                             Comedy\n",
       "\n",
       "[10 rows x 3 columns]"
      ]
     },
     "execution_count": 163,
     "metadata": {
      "tags": []
     },
     "output_type": "execute_result"
    }
   ],
   "source": [
    "print('Similar movies based on euclidean distance matrix are as follows.')\n",
    "similarMovies(471, 'euclidean_distance')"
   ]
  },
  {
   "cell_type": "markdown",
   "metadata": {
    "id": "5EOJJGsL59J_"
   },
   "source": [
    "### Overall Summary"
   ]
  },
  {
   "cell_type": "markdown",
   "metadata": {},
   "source": [
    "#### Motivation: \n",
    "Consider an online video playing app, a precise recommendation system is the one of the most critical component. In order to build a system to provide personalized recommendation for every user, I build a simple recommendation system using the data from GroupLens (https://grouplens.org/datasets/movielens/latest/) in this project. Going through this process, hopefully I would be well-prepared when I am trying to find a data scientist position for a video service company or any high-tech company in the future."
   ]
  },
  {
   "cell_type": "markdown",
   "metadata": {},
   "source": [
    "#### Steps:\n",
    "1. Exploratory Data Analysis (EDA): Built data ETL pipeline to analyze movie rating dataset and conducted online analytical processing(OLAP) with Spark SQL.\n",
    "2. Implemented the Alternative Least Square model to provide personalized movie recommendations.\n",
    "3. Conducted model hyper-parameters through grid search and 4-fold cross validation; evaluate the tuned model on testing data.\n",
    "4. Apply the model on the whole rating data to see the performance; Use the model to make recommendations for given userIds; Use one of the model output: item factor to find similar movies for given movieIds."
   ]
  },
  {
   "cell_type": "markdown",
   "metadata": {},
   "source": [
    "#### Output and conclusion:\n",
    " - The best model for ALS has the parameters to be: maxIter=10, regParam=0.1, rank=5, alpha=0.1. The rooted mean squared error (RMSE) on the testing data is 0.88 and on the whole dataset is 0.69.\n",
    " - As mentioned in the steps, the ALS model is not only able to provide recommendations, but also able to mine latent information, which is the latent variable in matrix factorization. This latent information is helpful that it can help us gain some deeper insight. In this project, this information was used to measure the difference between any two movies so that we are able to find similar movies ."
   ]
  }
 ],
 "metadata": {
  "colab": {
   "collapsed_sections": [],
   "name": "HW2_Moive_Recommendation.ipynb",
   "provenance": []
  },
  "kernelspec": {
   "display_name": "Python 3 (ipykernel)",
   "language": "python",
   "name": "python3"
  },
  "language_info": {
   "codemirror_mode": {
    "name": "ipython",
    "version": 3
   },
   "file_extension": ".py",
   "mimetype": "text/x-python",
   "name": "python",
   "nbconvert_exporter": "python",
   "pygments_lexer": "ipython3",
   "version": "3.7.0"
  }
 },
 "nbformat": 4,
 "nbformat_minor": 1
}
